{
 "cells": [
  {
   "cell_type": "markdown",
   "metadata": {},
   "source": [
    "## Agrupar clientes en una ciudad mediante K-means\n",
    "\n",
    "Utilizando el módulo KMeans de scikit-learn\n",
    "\n",
    "Referencias:\n",
    "- El algoritmo k-means aplicado a clasificación y procesamiento de imágenes\n",
    "\n",
    "Computación Numerica - Universidad de Oviedo - Departamento de Matemáticas.\n",
    "https://www.unioviedo.es/compnum/laboratorios_py/kmeans/kmeans.html\n",
    "\n",
    "- Definitive Guide to K-Means Clustering with Scikit-Learn\n",
    "\n",
    "Cássia Sampaio - StackAbuse.\n",
    "https://stackabuse.com/k-means-clustering-with-scikit-learn/\n",
    "\n",
    "- (3) Best Practices Using Geocoding API Web Services\n",
    "\n",
    "https://developers.google.com/maps/documentation/geocoding/web-service-best-practices?hl=en"
   ]
  },
  {
   "cell_type": "code",
   "execution_count": 182,
   "metadata": {},
   "outputs": [],
   "source": [
    "import openpyxl\n",
    "import json\n",
    "import time\n",
    "import pandas as pd\n",
    "import numpy as np\n",
    "import matplotlib.pyplot as plt\n",
    "import sklearn\n",
    "from sklearn.cluster import KMeans\n",
    "import urllib.request\n",
    "import urllib.parse"
   ]
  },
  {
   "cell_type": "code",
   "execution_count": 183,
   "metadata": {},
   "outputs": [
    {
     "name": "stdout",
     "output_type": "stream",
     "text": [
      "The scikit-learn version is 1.1.2\n"
     ]
    }
   ],
   "source": [
    "print(f'The scikit-learn version is {sklearn.__version__}')"
   ]
  },
  {
   "cell_type": "code",
   "execution_count": 191,
   "metadata": {},
   "outputs": [
    {
     "data": {
      "text/html": [
       "<div>\n",
       "<style scoped>\n",
       "    .dataframe tbody tr th:only-of-type {\n",
       "        vertical-align: middle;\n",
       "    }\n",
       "\n",
       "    .dataframe tbody tr th {\n",
       "        vertical-align: top;\n",
       "    }\n",
       "\n",
       "    .dataframe thead th {\n",
       "        text-align: right;\n",
       "    }\n",
       "</style>\n",
       "<table border=\"1\" class=\"dataframe\">\n",
       "  <thead>\n",
       "    <tr style=\"text-align: right;\">\n",
       "      <th></th>\n",
       "      <th>nombre_comercial</th>\n",
       "      <th>domicilio</th>\n",
       "      <th>ciudad</th>\n",
       "      <th>cod_postal</th>\n",
       "      <th>provincia</th>\n",
       "    </tr>\n",
       "    <tr>\n",
       "      <th>cod_cliente</th>\n",
       "      <th></th>\n",
       "      <th></th>\n",
       "      <th></th>\n",
       "      <th></th>\n",
       "      <th></th>\n",
       "    </tr>\n",
       "  </thead>\n",
       "  <tbody>\n",
       "    <tr>\n",
       "      <th>010001</th>\n",
       "      <td>BUSCAVIDAS</td>\n",
       "      <td>SAN LORENZO 52</td>\n",
       "      <td>Gaiman</td>\n",
       "      <td>9105</td>\n",
       "      <td>Chubut</td>\n",
       "    </tr>\n",
       "    <tr>\n",
       "      <th>010002</th>\n",
       "      <td>DOÑA AMELIA</td>\n",
       "      <td>28 DE JULIO 641</td>\n",
       "      <td>Gaiman</td>\n",
       "      <td>9105</td>\n",
       "      <td>Chubut</td>\n",
       "    </tr>\n",
       "    <tr>\n",
       "      <th>010003</th>\n",
       "      <td>EL COLO</td>\n",
       "      <td>BROWN 928</td>\n",
       "      <td>Gaiman</td>\n",
       "      <td>9105</td>\n",
       "      <td>Chubut</td>\n",
       "    </tr>\n",
       "    <tr>\n",
       "      <th>010004</th>\n",
       "      <td>EL GATO DE LA AVENIDA</td>\n",
       "      <td>TELLO 643</td>\n",
       "      <td>Gaiman</td>\n",
       "      <td>9105</td>\n",
       "      <td>Chubut</td>\n",
       "    </tr>\n",
       "    <tr>\n",
       "      <th>010005</th>\n",
       "      <td>FRUTILLITAS</td>\n",
       "      <td>COM. ESPORA 21</td>\n",
       "      <td>Gaiman</td>\n",
       "      <td>9105</td>\n",
       "      <td>Chubut</td>\n",
       "    </tr>\n",
       "  </tbody>\n",
       "</table>\n",
       "</div>"
      ],
      "text/plain": [
       "                  nombre_comercial        domicilio  ciudad cod_postal  \\\n",
       "cod_cliente                                                              \n",
       "010001                  BUSCAVIDAS   SAN LORENZO 52  Gaiman       9105   \n",
       "010002                 DOÑA AMELIA  28 DE JULIO 641  Gaiman       9105   \n",
       "010003                     EL COLO        BROWN 928  Gaiman       9105   \n",
       "010004       EL GATO DE LA AVENIDA        TELLO 643  Gaiman       9105   \n",
       "010005                 FRUTILLITAS   COM. ESPORA 21  Gaiman       9105   \n",
       "\n",
       "            provincia  \n",
       "cod_cliente            \n",
       "010001         Chubut  \n",
       "010002         Chubut  \n",
       "010003         Chubut  \n",
       "010004         Chubut  \n",
       "010005         Chubut  "
      ]
     },
     "execution_count": 191,
     "metadata": {},
     "output_type": "execute_result"
    }
   ],
   "source": [
    "arch = 'Nómina de Clientes'\n",
    "clientes = pd.read_excel(f'./{arch}.xlsx', index_col=0,\n",
    "                         na_values=[\" \"],\n",
    "                         dtype={'cod_cliente': str, 'nombre_comercial': str, 'domicilio': str, 'ciudad': str, 'cod_postal': str, 'provincia': str},\n",
    "                         usecols=['cod_cliente', 'nombre_comercial', 'domicilio', 'ciudad', 'cod_postal', 'provincia'])\n",
    "clientes.head()"
   ]
  },
  {
   "cell_type": "code",
   "execution_count": 192,
   "metadata": {},
   "outputs": [
    {
     "data": {
      "text/html": [
       "<div>\n",
       "<style scoped>\n",
       "    .dataframe tbody tr th:only-of-type {\n",
       "        vertical-align: middle;\n",
       "    }\n",
       "\n",
       "    .dataframe tbody tr th {\n",
       "        vertical-align: top;\n",
       "    }\n",
       "\n",
       "    .dataframe thead th {\n",
       "        text-align: right;\n",
       "    }\n",
       "</style>\n",
       "<table border=\"1\" class=\"dataframe\">\n",
       "  <thead>\n",
       "    <tr style=\"text-align: right;\">\n",
       "      <th></th>\n",
       "      <th>nombre_comercial</th>\n",
       "      <th>domicilio</th>\n",
       "      <th>ciudad</th>\n",
       "      <th>cod_postal</th>\n",
       "      <th>provincia</th>\n",
       "    </tr>\n",
       "    <tr>\n",
       "      <th>cod_cliente</th>\n",
       "      <th></th>\n",
       "      <th></th>\n",
       "      <th></th>\n",
       "      <th></th>\n",
       "      <th></th>\n",
       "    </tr>\n",
       "  </thead>\n",
       "  <tbody>\n",
       "    <tr>\n",
       "      <th>010001</th>\n",
       "      <td>BUSCAVIDAS</td>\n",
       "      <td>SAN LORENZO 52</td>\n",
       "      <td>Gaiman</td>\n",
       "      <td>9105</td>\n",
       "      <td>Chubut</td>\n",
       "    </tr>\n",
       "    <tr>\n",
       "      <th>010002</th>\n",
       "      <td>DOÑA AMELIA</td>\n",
       "      <td>28 DE JULIO 641</td>\n",
       "      <td>Gaiman</td>\n",
       "      <td>9105</td>\n",
       "      <td>Chubut</td>\n",
       "    </tr>\n",
       "    <tr>\n",
       "      <th>010003</th>\n",
       "      <td>EL COLO</td>\n",
       "      <td>BROWN 928</td>\n",
       "      <td>Gaiman</td>\n",
       "      <td>9105</td>\n",
       "      <td>Chubut</td>\n",
       "    </tr>\n",
       "    <tr>\n",
       "      <th>010004</th>\n",
       "      <td>EL GATO DE LA AVENIDA</td>\n",
       "      <td>TELLO 643</td>\n",
       "      <td>Gaiman</td>\n",
       "      <td>9105</td>\n",
       "      <td>Chubut</td>\n",
       "    </tr>\n",
       "    <tr>\n",
       "      <th>010005</th>\n",
       "      <td>FRUTILLITAS</td>\n",
       "      <td>COM. ESPORA 21</td>\n",
       "      <td>Gaiman</td>\n",
       "      <td>9105</td>\n",
       "      <td>Chubut</td>\n",
       "    </tr>\n",
       "  </tbody>\n",
       "</table>\n",
       "</div>"
      ],
      "text/plain": [
       "                  nombre_comercial        domicilio  ciudad cod_postal  \\\n",
       "cod_cliente                                                              \n",
       "010001                  BUSCAVIDAS   SAN LORENZO 52  Gaiman       9105   \n",
       "010002                 DOÑA AMELIA  28 DE JULIO 641  Gaiman       9105   \n",
       "010003                     EL COLO        BROWN 928  Gaiman       9105   \n",
       "010004       EL GATO DE LA AVENIDA        TELLO 643  Gaiman       9105   \n",
       "010005                 FRUTILLITAS   COM. ESPORA 21  Gaiman       9105   \n",
       "\n",
       "            provincia  \n",
       "cod_cliente            \n",
       "010001         Chubut  \n",
       "010002         Chubut  \n",
       "010003         Chubut  \n",
       "010004         Chubut  \n",
       "010005         Chubut  "
      ]
     },
     "execution_count": 192,
     "metadata": {},
     "output_type": "execute_result"
    }
   ],
   "source": [
    "clientes.dropna(inplace=True)\n",
    "clientes.head()"
   ]
  },
  {
   "cell_type": "markdown",
   "metadata": {},
   "source": [
    "Normalizar los nombres de localidades"
   ]
  },
  {
   "cell_type": "code",
   "execution_count": 193,
   "metadata": {},
   "outputs": [
    {
     "data": {
      "text/html": [
       "<div>\n",
       "<style scoped>\n",
       "    .dataframe tbody tr th:only-of-type {\n",
       "        vertical-align: middle;\n",
       "    }\n",
       "\n",
       "    .dataframe tbody tr th {\n",
       "        vertical-align: top;\n",
       "    }\n",
       "\n",
       "    .dataframe thead th {\n",
       "        text-align: right;\n",
       "    }\n",
       "</style>\n",
       "<table border=\"1\" class=\"dataframe\">\n",
       "  <thead>\n",
       "    <tr style=\"text-align: right;\">\n",
       "      <th></th>\n",
       "      <th>nombre_comercial</th>\n",
       "      <th>domicilio</th>\n",
       "      <th>ciudad</th>\n",
       "      <th>cod_postal</th>\n",
       "      <th>provincia</th>\n",
       "    </tr>\n",
       "    <tr>\n",
       "      <th>cod_cliente</th>\n",
       "      <th></th>\n",
       "      <th></th>\n",
       "      <th></th>\n",
       "      <th></th>\n",
       "      <th></th>\n",
       "    </tr>\n",
       "  </thead>\n",
       "  <tbody>\n",
       "    <tr>\n",
       "      <th>010001</th>\n",
       "      <td>BUSCAVIDAS</td>\n",
       "      <td>SAN LORENZO 52</td>\n",
       "      <td>GAIMAN</td>\n",
       "      <td>9105</td>\n",
       "      <td>Chubut</td>\n",
       "    </tr>\n",
       "    <tr>\n",
       "      <th>010002</th>\n",
       "      <td>DOÑA AMELIA</td>\n",
       "      <td>28 DE JULIO 641</td>\n",
       "      <td>GAIMAN</td>\n",
       "      <td>9105</td>\n",
       "      <td>Chubut</td>\n",
       "    </tr>\n",
       "    <tr>\n",
       "      <th>010003</th>\n",
       "      <td>EL COLO</td>\n",
       "      <td>BROWN 928</td>\n",
       "      <td>GAIMAN</td>\n",
       "      <td>9105</td>\n",
       "      <td>Chubut</td>\n",
       "    </tr>\n",
       "    <tr>\n",
       "      <th>010004</th>\n",
       "      <td>EL GATO DE LA AVENIDA</td>\n",
       "      <td>TELLO 643</td>\n",
       "      <td>GAIMAN</td>\n",
       "      <td>9105</td>\n",
       "      <td>Chubut</td>\n",
       "    </tr>\n",
       "    <tr>\n",
       "      <th>010005</th>\n",
       "      <td>FRUTILLITAS</td>\n",
       "      <td>COM. ESPORA 21</td>\n",
       "      <td>GAIMAN</td>\n",
       "      <td>9105</td>\n",
       "      <td>Chubut</td>\n",
       "    </tr>\n",
       "  </tbody>\n",
       "</table>\n",
       "</div>"
      ],
      "text/plain": [
       "                  nombre_comercial        domicilio  ciudad cod_postal  \\\n",
       "cod_cliente                                                              \n",
       "010001                  BUSCAVIDAS   SAN LORENZO 52  GAIMAN       9105   \n",
       "010002                 DOÑA AMELIA  28 DE JULIO 641  GAIMAN       9105   \n",
       "010003                     EL COLO        BROWN 928  GAIMAN       9105   \n",
       "010004       EL GATO DE LA AVENIDA        TELLO 643  GAIMAN       9105   \n",
       "010005                 FRUTILLITAS   COM. ESPORA 21  GAIMAN       9105   \n",
       "\n",
       "            provincia  \n",
       "cod_cliente            \n",
       "010001         Chubut  \n",
       "010002         Chubut  \n",
       "010003         Chubut  \n",
       "010004         Chubut  \n",
       "010005         Chubut  "
      ]
     },
     "execution_count": 193,
     "metadata": {},
     "output_type": "execute_result"
    }
   ],
   "source": [
    "clientes['ciudad'] = clientes.apply(lambda row: row['ciudad'].upper().strip(), axis=1)\n",
    "clientes.head()"
   ]
  },
  {
   "cell_type": "markdown",
   "metadata": {},
   "source": [
    "Filtrar los clientes por la ciudad a estudiar"
   ]
  },
  {
   "cell_type": "code",
   "execution_count": 194,
   "metadata": {},
   "outputs": [
    {
     "data": {
      "text/html": [
       "<div>\n",
       "<style scoped>\n",
       "    .dataframe tbody tr th:only-of-type {\n",
       "        vertical-align: middle;\n",
       "    }\n",
       "\n",
       "    .dataframe tbody tr th {\n",
       "        vertical-align: top;\n",
       "    }\n",
       "\n",
       "    .dataframe thead th {\n",
       "        text-align: right;\n",
       "    }\n",
       "</style>\n",
       "<table border=\"1\" class=\"dataframe\">\n",
       "  <thead>\n",
       "    <tr style=\"text-align: right;\">\n",
       "      <th></th>\n",
       "      <th>nombre_comercial</th>\n",
       "      <th>domicilio</th>\n",
       "      <th>ciudad</th>\n",
       "      <th>cod_postal</th>\n",
       "      <th>provincia</th>\n",
       "    </tr>\n",
       "    <tr>\n",
       "      <th>cod_cliente</th>\n",
       "      <th></th>\n",
       "      <th></th>\n",
       "      <th></th>\n",
       "      <th></th>\n",
       "      <th></th>\n",
       "    </tr>\n",
       "  </thead>\n",
       "  <tbody>\n",
       "    <tr>\n",
       "      <th>020018</th>\n",
       "      <td>GAUNA, MARCELO DAVID</td>\n",
       "      <td>PASAJE LOS ANDES 1370</td>\n",
       "      <td>TRELEW</td>\n",
       "      <td>9100</td>\n",
       "      <td>Chubut</td>\n",
       "    </tr>\n",
       "    <tr>\n",
       "      <th>020020</th>\n",
       "      <td>SEC - SIND. EMPL. DE COMERCIO</td>\n",
       "      <td>TRELEW</td>\n",
       "      <td>TRELEW</td>\n",
       "      <td>9100</td>\n",
       "      <td>Chubut</td>\n",
       "    </tr>\n",
       "    <tr>\n",
       "      <th>020031</th>\n",
       "      <td>UCR COMITE PROVINCA DEL CHUBUT</td>\n",
       "      <td>MORENO 433</td>\n",
       "      <td>TRELEW</td>\n",
       "      <td>9100</td>\n",
       "      <td>Chubut</td>\n",
       "    </tr>\n",
       "    <tr>\n",
       "      <th>020041</th>\n",
       "      <td>LA MADRILEÑA S.A.</td>\n",
       "      <td>BELGRANO 280 PISO 1</td>\n",
       "      <td>TRELEW</td>\n",
       "      <td>9100</td>\n",
       "      <td>Chubut</td>\n",
       "    </tr>\n",
       "    <tr>\n",
       "      <th>020051</th>\n",
       "      <td>VILLEGAS CONSTRUCCIONES SRL</td>\n",
       "      <td>BURMEISTER NTE 625</td>\n",
       "      <td>TRELEW</td>\n",
       "      <td>9100</td>\n",
       "      <td>Chubut</td>\n",
       "    </tr>\n",
       "  </tbody>\n",
       "</table>\n",
       "</div>"
      ],
      "text/plain": [
       "                           nombre_comercial              domicilio  ciudad  \\\n",
       "cod_cliente                                                                  \n",
       "020018                 GAUNA, MARCELO DAVID  PASAJE LOS ANDES 1370  TRELEW   \n",
       "020020        SEC - SIND. EMPL. DE COMERCIO                 TRELEW  TRELEW   \n",
       "020031       UCR COMITE PROVINCA DEL CHUBUT             MORENO 433  TRELEW   \n",
       "020041                    LA MADRILEÑA S.A.    BELGRANO 280 PISO 1  TRELEW   \n",
       "020051          VILLEGAS CONSTRUCCIONES SRL     BURMEISTER NTE 625  TRELEW   \n",
       "\n",
       "            cod_postal provincia  \n",
       "cod_cliente                       \n",
       "020018            9100    Chubut  \n",
       "020020            9100    Chubut  \n",
       "020031            9100    Chubut  \n",
       "020041            9100    Chubut  \n",
       "020051            9100    Chubut  "
      ]
     },
     "execution_count": 194,
     "metadata": {},
     "output_type": "execute_result"
    }
   ],
   "source": [
    "city = \"'TRELEW'\"\n",
    "clientes = clientes.query('ciudad == '+ city)\n",
    "clientes.head()"
   ]
  },
  {
   "cell_type": "code",
   "execution_count": 195,
   "metadata": {},
   "outputs": [
    {
     "data": {
      "text/html": [
       "<div>\n",
       "<style scoped>\n",
       "    .dataframe tbody tr th:only-of-type {\n",
       "        vertical-align: middle;\n",
       "    }\n",
       "\n",
       "    .dataframe tbody tr th {\n",
       "        vertical-align: top;\n",
       "    }\n",
       "\n",
       "    .dataframe thead th {\n",
       "        text-align: right;\n",
       "    }\n",
       "</style>\n",
       "<table border=\"1\" class=\"dataframe\">\n",
       "  <thead>\n",
       "    <tr style=\"text-align: right;\">\n",
       "      <th></th>\n",
       "      <th>nombre_comercial</th>\n",
       "      <th>domicilio</th>\n",
       "      <th>ciudad</th>\n",
       "      <th>cod_postal</th>\n",
       "      <th>provincia</th>\n",
       "      <th>url</th>\n",
       "    </tr>\n",
       "    <tr>\n",
       "      <th>cod_cliente</th>\n",
       "      <th></th>\n",
       "      <th></th>\n",
       "      <th></th>\n",
       "      <th></th>\n",
       "      <th></th>\n",
       "      <th></th>\n",
       "    </tr>\n",
       "  </thead>\n",
       "  <tbody>\n",
       "    <tr>\n",
       "      <th>020018</th>\n",
       "      <td>GAUNA, MARCELO DAVID</td>\n",
       "      <td>PASAJE LOS ANDES 1370</td>\n",
       "      <td>TRELEW</td>\n",
       "      <td>9100</td>\n",
       "      <td>Chubut</td>\n",
       "      <td>https://maps.googleapis.com/maps/api/geocode/j...</td>\n",
       "    </tr>\n",
       "    <tr>\n",
       "      <th>020020</th>\n",
       "      <td>SEC - SIND. EMPL. DE COMERCIO</td>\n",
       "      <td>TRELEW</td>\n",
       "      <td>TRELEW</td>\n",
       "      <td>9100</td>\n",
       "      <td>Chubut</td>\n",
       "      <td>https://maps.googleapis.com/maps/api/geocode/j...</td>\n",
       "    </tr>\n",
       "    <tr>\n",
       "      <th>020031</th>\n",
       "      <td>UCR COMITE PROVINCA DEL CHUBUT</td>\n",
       "      <td>MORENO 433</td>\n",
       "      <td>TRELEW</td>\n",
       "      <td>9100</td>\n",
       "      <td>Chubut</td>\n",
       "      <td>https://maps.googleapis.com/maps/api/geocode/j...</td>\n",
       "    </tr>\n",
       "    <tr>\n",
       "      <th>020041</th>\n",
       "      <td>LA MADRILEÑA S.A.</td>\n",
       "      <td>BELGRANO 280 PISO 1</td>\n",
       "      <td>TRELEW</td>\n",
       "      <td>9100</td>\n",
       "      <td>Chubut</td>\n",
       "      <td>https://maps.googleapis.com/maps/api/geocode/j...</td>\n",
       "    </tr>\n",
       "    <tr>\n",
       "      <th>020051</th>\n",
       "      <td>VILLEGAS CONSTRUCCIONES SRL</td>\n",
       "      <td>BURMEISTER NTE 625</td>\n",
       "      <td>TRELEW</td>\n",
       "      <td>9100</td>\n",
       "      <td>Chubut</td>\n",
       "      <td>https://maps.googleapis.com/maps/api/geocode/j...</td>\n",
       "    </tr>\n",
       "  </tbody>\n",
       "</table>\n",
       "</div>"
      ],
      "text/plain": [
       "                           nombre_comercial              domicilio  ciudad  \\\n",
       "cod_cliente                                                                  \n",
       "020018                 GAUNA, MARCELO DAVID  PASAJE LOS ANDES 1370  TRELEW   \n",
       "020020        SEC - SIND. EMPL. DE COMERCIO                 TRELEW  TRELEW   \n",
       "020031       UCR COMITE PROVINCA DEL CHUBUT             MORENO 433  TRELEW   \n",
       "020041                    LA MADRILEÑA S.A.    BELGRANO 280 PISO 1  TRELEW   \n",
       "020051          VILLEGAS CONSTRUCCIONES SRL     BURMEISTER NTE 625  TRELEW   \n",
       "\n",
       "            cod_postal provincia  \\\n",
       "cod_cliente                        \n",
       "020018            9100    Chubut   \n",
       "020020            9100    Chubut   \n",
       "020031            9100    Chubut   \n",
       "020041            9100    Chubut   \n",
       "020051            9100    Chubut   \n",
       "\n",
       "                                                           url  \n",
       "cod_cliente                                                     \n",
       "020018       https://maps.googleapis.com/maps/api/geocode/j...  \n",
       "020020       https://maps.googleapis.com/maps/api/geocode/j...  \n",
       "020031       https://maps.googleapis.com/maps/api/geocode/j...  \n",
       "020041       https://maps.googleapis.com/maps/api/geocode/j...  \n",
       "020051       https://maps.googleapis.com/maps/api/geocode/j...  "
      ]
     },
     "execution_count": 195,
     "metadata": {},
     "output_type": "execute_result"
    }
   ],
   "source": [
    "def create_url(row):\n",
    "    # Replace MY_API_KEY with your Google API key\n",
    "    MY_API_KEY = ''\n",
    "    #\n",
    "    GOG_URL_API = 'https://maps.googleapis.com/maps/api/geocode/json?address='\n",
    "\n",
    "    # Code below is used if you like to keep in the study\n",
    "    # customers with missing data in some or all address fields.\n",
    "    # Since rows with 'NaN' values are purged in the previous\n",
    "    # cell, this isn't necessary but is at your discretion.\n",
    "    #\n",
    "    # if type(row['Domicilio']) == float:\n",
    "    #     row['Domicilio'] = ' '\n",
    "    # if type(row['Localidad']) == float:\n",
    "    #     row['Localidad'] = ' '\n",
    "    # if type(row['Localidad']) == float:\n",
    "    #     row['Localidad'] = ' '\n",
    "\n",
    "\n",
    "    # If your customers table has a 'Country' column\n",
    "    # or if you are using this in another country\n",
    "    # replace 'Argentina' with the apropiate column or \n",
    "    # country name. For example:\n",
    "    # add_str = row['Domicilio'] + ' ' + row['Localidad'] + ' ' + row['Provincia'] + ' ' + row['Pais']\n",
    "    # or\n",
    "    # add_str = row['Domicilio'] + ' ' + row['Localidad'] + ' ' + row['Provincia'] + ' Uruguay'\n",
    "    #\n",
    "    add_str = row['domicilio'] + ' ' + row['ciudad'] + ' ' + row['provincia'] + ' Argentina'\n",
    "    address = {'address': add_str}\n",
    "    url = GOG_URL_API + urllib.parse.urlencode(address) + '&key=' + MY_API_KEY\n",
    "    return url\n",
    "\n",
    "clientes['url'] = clientes.apply(lambda row: create_url(row), axis=1)\n",
    "clientes.head()"
   ]
  },
  {
   "cell_type": "markdown",
   "metadata": {},
   "source": [
    "Creamos una función para convertir el domicilio del cliente a sus coordenadas en el formato = (latitud, longitud), mediante el uso de la API de Geocodificación de Google (3)"
   ]
  },
  {
   "cell_type": "code",
   "execution_count": 189,
   "metadata": {},
   "outputs": [],
   "source": [
    "def addr_to_coord(url):\n",
    "\n",
    "    current_delay = 0.1  # Set the initial retry delay to 100ms.\n",
    "    max_delay = 5  # Set the maximum retry delay to 5 seconds.\n",
    "\n",
    "    while True:\n",
    "        try:\n",
    "            # Get the API response.\n",
    "            response = urllib.request.urlopen(url)\n",
    "        except urllib.error.URLError:\n",
    "            pass  # Fall through to the retry loop.\n",
    "        else:\n",
    "            # If we didn't get an IOError then parse the result.\n",
    "            result = json.load(response)\n",
    "\n",
    "            if result[\"status\"] == \"OK\":\n",
    "                # return result[\"timeZoneId\"]\n",
    "                lat = result['results'][0]['geometry']['location']['lat']\n",
    "                lng = result['results'][0]['geometry']['location']['lng']\n",
    "                return lat,lng\n",
    "            elif result[\"status\"] != \"UNKNOWN_ERROR\":\n",
    "                # Many API errors cannot be fixed by a retry, e.g. INVALID_REQUEST or\n",
    "                # ZERO_RESULTS. There is no point retrying these requests.\n",
    "                raise Exception(result[\"error_message\"])\n",
    "\n",
    "        if current_delay > max_delay:\n",
    "            raise Exception(\"Too many retry attempts.\")\n",
    "\n",
    "        print(\"Waiting\", current_delay, \"seconds before retrying.\")\n",
    "\n",
    "        time.sleep(current_delay)\n",
    "        current_delay *= 2  # Increase the delay each time we retry."
   ]
  },
  {
   "cell_type": "code",
   "execution_count": 196,
   "metadata": {},
   "outputs": [
    {
     "data": {
      "text/html": [
       "<div>\n",
       "<style scoped>\n",
       "    .dataframe tbody tr th:only-of-type {\n",
       "        vertical-align: middle;\n",
       "    }\n",
       "\n",
       "    .dataframe tbody tr th {\n",
       "        vertical-align: top;\n",
       "    }\n",
       "\n",
       "    .dataframe thead th {\n",
       "        text-align: right;\n",
       "    }\n",
       "</style>\n",
       "<table border=\"1\" class=\"dataframe\">\n",
       "  <thead>\n",
       "    <tr style=\"text-align: right;\">\n",
       "      <th></th>\n",
       "      <th>nombre_comercial</th>\n",
       "      <th>domicilio</th>\n",
       "      <th>ciudad</th>\n",
       "      <th>cod_postal</th>\n",
       "      <th>provincia</th>\n",
       "      <th>url</th>\n",
       "      <th>coord</th>\n",
       "    </tr>\n",
       "    <tr>\n",
       "      <th>cod_cliente</th>\n",
       "      <th></th>\n",
       "      <th></th>\n",
       "      <th></th>\n",
       "      <th></th>\n",
       "      <th></th>\n",
       "      <th></th>\n",
       "      <th></th>\n",
       "    </tr>\n",
       "  </thead>\n",
       "  <tbody>\n",
       "    <tr>\n",
       "      <th>020018</th>\n",
       "      <td>GAUNA, MARCELO DAVID</td>\n",
       "      <td>PASAJE LOS ANDES 1370</td>\n",
       "      <td>TRELEW</td>\n",
       "      <td>9100</td>\n",
       "      <td>Chubut</td>\n",
       "      <td>https://maps.googleapis.com/maps/api/geocode/j...</td>\n",
       "      <td>(-43.2578047, -65.29119659999999)</td>\n",
       "    </tr>\n",
       "    <tr>\n",
       "      <th>020020</th>\n",
       "      <td>SEC - SIND. EMPL. DE COMERCIO</td>\n",
       "      <td>TRELEW</td>\n",
       "      <td>TRELEW</td>\n",
       "      <td>9100</td>\n",
       "      <td>Chubut</td>\n",
       "      <td>https://maps.googleapis.com/maps/api/geocode/j...</td>\n",
       "      <td>(-43.2493016, -65.30763510000001)</td>\n",
       "    </tr>\n",
       "    <tr>\n",
       "      <th>020031</th>\n",
       "      <td>UCR COMITE PROVINCA DEL CHUBUT</td>\n",
       "      <td>MORENO 433</td>\n",
       "      <td>TRELEW</td>\n",
       "      <td>9100</td>\n",
       "      <td>Chubut</td>\n",
       "      <td>https://maps.googleapis.com/maps/api/geocode/j...</td>\n",
       "      <td>(-43.2520243, -65.3027024)</td>\n",
       "    </tr>\n",
       "    <tr>\n",
       "      <th>020041</th>\n",
       "      <td>LA MADRILEÑA S.A.</td>\n",
       "      <td>BELGRANO 280 PISO 1</td>\n",
       "      <td>TRELEW</td>\n",
       "      <td>9100</td>\n",
       "      <td>Chubut</td>\n",
       "      <td>https://maps.googleapis.com/maps/api/geocode/j...</td>\n",
       "      <td>(-43.2514981, -65.3078508)</td>\n",
       "    </tr>\n",
       "    <tr>\n",
       "      <th>020051</th>\n",
       "      <td>VILLEGAS CONSTRUCCIONES SRL</td>\n",
       "      <td>BURMEISTER NTE 625</td>\n",
       "      <td>TRELEW</td>\n",
       "      <td>9100</td>\n",
       "      <td>Chubut</td>\n",
       "      <td>https://maps.googleapis.com/maps/api/geocode/j...</td>\n",
       "      <td>(-43.2485344, -65.3400394)</td>\n",
       "    </tr>\n",
       "  </tbody>\n",
       "</table>\n",
       "</div>"
      ],
      "text/plain": [
       "                           nombre_comercial              domicilio  ciudad  \\\n",
       "cod_cliente                                                                  \n",
       "020018                 GAUNA, MARCELO DAVID  PASAJE LOS ANDES 1370  TRELEW   \n",
       "020020        SEC - SIND. EMPL. DE COMERCIO                 TRELEW  TRELEW   \n",
       "020031       UCR COMITE PROVINCA DEL CHUBUT             MORENO 433  TRELEW   \n",
       "020041                    LA MADRILEÑA S.A.    BELGRANO 280 PISO 1  TRELEW   \n",
       "020051          VILLEGAS CONSTRUCCIONES SRL     BURMEISTER NTE 625  TRELEW   \n",
       "\n",
       "            cod_postal provincia  \\\n",
       "cod_cliente                        \n",
       "020018            9100    Chubut   \n",
       "020020            9100    Chubut   \n",
       "020031            9100    Chubut   \n",
       "020041            9100    Chubut   \n",
       "020051            9100    Chubut   \n",
       "\n",
       "                                                           url  \\\n",
       "cod_cliente                                                      \n",
       "020018       https://maps.googleapis.com/maps/api/geocode/j...   \n",
       "020020       https://maps.googleapis.com/maps/api/geocode/j...   \n",
       "020031       https://maps.googleapis.com/maps/api/geocode/j...   \n",
       "020041       https://maps.googleapis.com/maps/api/geocode/j...   \n",
       "020051       https://maps.googleapis.com/maps/api/geocode/j...   \n",
       "\n",
       "                                         coord  \n",
       "cod_cliente                                     \n",
       "020018       (-43.2578047, -65.29119659999999)  \n",
       "020020       (-43.2493016, -65.30763510000001)  \n",
       "020031              (-43.2520243, -65.3027024)  \n",
       "020041              (-43.2514981, -65.3078508)  \n",
       "020051              (-43.2485344, -65.3400394)  "
      ]
     },
     "execution_count": 196,
     "metadata": {},
     "output_type": "execute_result"
    }
   ],
   "source": [
    "clientes['coord'] = clientes.apply(lambda row: addr_to_coord(row['url']), axis=1)\n",
    "clientes.head()"
   ]
  },
  {
   "cell_type": "code",
   "execution_count": 197,
   "metadata": {},
   "outputs": [
    {
     "data": {
      "text/plain": [
       "cod_cliente\n",
       "020018    (-43.2578047, -65.29119659999999)\n",
       "020020    (-43.2493016, -65.30763510000001)\n",
       "020031           (-43.2520243, -65.3027024)\n",
       "020041           (-43.2514981, -65.3078508)\n",
       "020051           (-43.2485344, -65.3400394)\n",
       "                        ...                \n",
       "050182    (-43.2614977, -65.32670879999999)\n",
       "050183           (-43.2517859, -65.2840947)\n",
       "050184             (-43.258376, -65.287283)\n",
       "050185           (-43.2522481, -65.3026718)\n",
       "050186           (-43.2579353, -65.3145378)\n",
       "Name: coord, Length: 198, dtype: object"
      ]
     },
     "execution_count": 197,
     "metadata": {},
     "output_type": "execute_result"
    }
   ],
   "source": [
    "clientes['coord']"
   ]
  },
  {
   "cell_type": "code",
   "execution_count": 223,
   "metadata": {},
   "outputs": [
    {
     "data": {
      "text/plain": [
       "'050004'"
      ]
     },
     "execution_count": 223,
     "metadata": {},
     "output_type": "execute_result"
    }
   ],
   "source": [
    "clientes['coord'].index[21]"
   ]
  },
  {
   "cell_type": "code",
   "execution_count": 227,
   "metadata": {},
   "outputs": [
    {
     "data": {
      "text/plain": [
       "[['020018', -43.2578047, -65.29119659999999],\n",
       " ['020020', -43.2493016, -65.30763510000001],\n",
       " ['020031', -43.2520243, -65.3027024],\n",
       " ['020041', -43.2514981, -65.3078508],\n",
       " ['020051', -43.2485344, -65.3400394],\n",
       " ['020078', -43.27246239999999, -65.2856333],\n",
       " ['020082', -43.2682272, -65.2910388],\n",
       " ['020089', -43.252071, -65.3094011],\n",
       " ['020101', -43.2554564, -65.2868373],\n",
       " ['020102', -43.2495601, -65.31259399999999]]"
      ]
     },
     "execution_count": 227,
     "metadata": {},
     "output_type": "execute_result"
    }
   ],
   "source": [
    "xp = []\n",
    "for i in range (len(clientes['coord'])):\n",
    "    xp.append([clientes['coord'].index[i], clientes['coord'][i][0],clientes['coord'][i][1]])\n",
    "\n",
    "xp[0:10]"
   ]
  },
  {
   "cell_type": "code",
   "execution_count": 236,
   "metadata": {},
   "outputs": [
    {
     "data": {
      "text/plain": [
       "array([['020018', -43.2578047, -65.29119659999999],\n",
       "       ['020020', -43.2493016, -65.30763510000001],\n",
       "       ['020031', -43.2520243, -65.3027024],\n",
       "       ['020041', -43.2514981, -65.3078508],\n",
       "       ['020051', -43.2485344, -65.3400394],\n",
       "       ['020078', -43.27246239999999, -65.2856333],\n",
       "       ['020082', -43.2682272, -65.2910388],\n",
       "       ['020089', -43.252071, -65.3094011],\n",
       "       ['020101', -43.2554564, -65.2868373],\n",
       "       ['020102', -43.2495601, -65.31259399999999]], dtype=object)"
      ]
     },
     "execution_count": 236,
     "metadata": {},
     "output_type": "execute_result"
    }
   ],
   "source": [
    "X = np.array(xp, dtype=object)\n",
    "X[0:10]"
   ]
  },
  {
   "cell_type": "code",
   "execution_count": 237,
   "metadata": {},
   "outputs": [
    {
     "data": {
      "text/plain": [
       "(198, 3)"
      ]
     },
     "execution_count": 237,
     "metadata": {},
     "output_type": "execute_result"
    }
   ],
   "source": [
    "X.shape"
   ]
  },
  {
   "cell_type": "code",
   "execution_count": 238,
   "metadata": {},
   "outputs": [
    {
     "data": {
      "text/plain": [
       "(array([-43.2578047, -43.2493016, -43.2520243, -43.2514981, -43.2485344,\n",
       "        -43.27246239999999, -43.2682272, -43.252071, -43.2554564,\n",
       "        -43.2495601], dtype=object),\n",
       " array([-65.29119659999999, -65.30763510000001, -65.3027024, -65.3078508,\n",
       "        -65.3400394, -65.2856333, -65.2910388, -65.3094011, -65.2868373,\n",
       "        -65.31259399999999], dtype=object))"
      ]
     },
     "execution_count": 238,
     "metadata": {},
     "output_type": "execute_result"
    }
   ],
   "source": [
    "X[0:10,1],X[0:10,2]"
   ]
  },
  {
   "cell_type": "code",
   "execution_count": 239,
   "metadata": {},
   "outputs": [
    {
     "data": {
      "image/png": "[encoded data removed]",
      "text/plain": [
       "<Figure size 432x288 with 1 Axes>"
      ]
     },
     "metadata": {
      "needs_background": "light"
     },
     "output_type": "display_data"
    }
   ],
   "source": [
    "plt.plot(X[:,1],X[:,2],'k.')\n",
    "plt.show()"
   ]
  },
  {
   "cell_type": "code",
   "execution_count": 249,
   "metadata": {},
   "outputs": [
    {
     "ename": "ValueError",
     "evalue": "Expected 2D array, got 1D array instead:\narray=[-43.2578047 -43.2493016 -43.2520243 -43.2514981 -43.2485344 -43.2724624\n -43.2682272 -43.252071  -43.2554564 -43.2495601 -43.2697566 -43.2882513\n -43.2556675 -43.2409988 -43.2492231 -43.2385812 -43.2493016 -43.2514934\n -43.2493016 -43.2718371 -43.2626485 -43.2555997 -43.255266  -43.2654796\n -43.2382764 -43.2636274 -43.2576004 -43.2640989 -43.2456796 -43.2543148\n -43.2382764 -43.262783  -43.2575344 -43.2493441 -43.2693317 -43.2459716\n -43.2616731 -43.2641549 -43.2570584 -43.2692023 -43.251114  -43.2677704\n -43.2485757 -43.2594724 -43.2613781 -43.254202  -43.2543576 -43.2394819\n -43.2580047 -43.255577  -43.236849  -43.2591011 -43.254042  -43.2578704\n -43.2652181 -43.2518639 -43.2587821 -43.2466828 -43.2493016 -43.2533204\n -43.2552181 -43.2574342 -43.2499932 -43.2443904 -43.250552  -43.2509039\n -43.2557284 -43.2493016 -43.2510589 -43.2579798 -43.2654146 -43.2692569\n -43.2570402 -43.2560153 -43.2506999 -43.265375  -43.2484228 -43.2560552\n -43.2525881 -43.2528822 -43.2670324 -43.2629367 -43.2515036 -43.2563119\n -43.2510709 -43.2503734 -43.2680417 -43.2553208 -43.256403  -43.2716061\n -43.2413562 -43.2471721 -43.272349  -43.2597665 -43.2612935 -43.2556708\n -43.2579195 -43.258273  -43.2497673 -43.2460667 -43.2401921 -43.2585869\n -43.2608103 -43.2697687 -43.2532567 -43.2649951 -43.2523209 -43.258659\n -43.2544725 -43.2546846 -43.2652681 -43.2493016 -43.2654312 -43.2614109\n -43.2572491 -43.2492631 -43.2613897 -43.2572984 -43.265799  -43.2369948\n -43.24672   -43.248127  -43.2640985 -43.2618584 -43.2444085 -43.2697561\n -43.2610364 -43.2416482 -43.2540677 -43.2721016 -43.2678591 -43.2531039\n -43.266021  -43.2550549 -43.2550284 -43.2592085 -43.2481181 -43.26775\n -43.2640339 -43.2547475 -43.2743583 -43.2538466 -43.2483963 -43.2571074\n -43.2663212 -43.2601032 -43.2584645 -43.2350134 -43.2555715 -43.2728581\n -43.254533  -43.2525523 -43.2661289 -43.2567592 -43.265093  -43.2616016\n -43.2468089 -43.2416482 -43.2529538 -43.2532014 -43.2680983 -43.2677301\n -43.2530956 -43.2629799 -43.2649711 -43.2427867 -43.2781818 -43.2617642\n -43.3014766 -43.2678512 -43.2493016 -43.2691362 -43.2441673 -43.2662305\n -43.2600922 -43.2457583 -43.2638009 -43.2707923 -43.2366648 -43.2556014\n -43.2520168 -43.2410558 -43.2668814 -43.2609342 -43.2572845 -43.2581912\n -43.2781818 -43.2455498 -43.258396  -43.2571074 -43.2572489 -43.2596316\n -43.2583552 -43.2614977 -43.2517859 -43.258376  -43.2522481 -43.2579353].\nReshape your data either using array.reshape(-1, 1) if your data has a single feature or array.reshape(1, -1) if it contains a single sample.",
     "output_type": "error",
     "traceback": [
      "\u001b[1;31m---------------------------------------------------------------------------\u001b[0m",
      "\u001b[1;31mValueError\u001b[0m                                Traceback (most recent call last)",
      "\u001b[1;32mc:\\Users\\jltag\\Mi unidad\\2 - IT\\0 - Python Dev\\Scientific Computing with Python Projects\\7 - K-means\\client_zoning.ipynb Celda 22\u001b[0m in \u001b[0;36m<cell line: 3>\u001b[1;34m()\u001b[0m\n\u001b[0;32m      <a href='vscode-notebook-cell:/c%3A/Users/jltag/Mi%20unidad/2%20-%20IT/0%20-%20Python%20Dev/Scientific%20Computing%20with%20Python%20Projects/7%20-%20K-means/client_zoning.ipynb#X31sZmlsZQ%3D%3D?line=0'>1</a>\u001b[0m n \u001b[39m=\u001b[39m \u001b[39m4\u001b[39m\n\u001b[0;32m      <a href='vscode-notebook-cell:/c%3A/Users/jltag/Mi%20unidad/2%20-%20IT/0%20-%20Python%20Dev/Scientific%20Computing%20with%20Python%20Projects/7%20-%20K-means/client_zoning.ipynb#X31sZmlsZQ%3D%3D?line=1'>2</a>\u001b[0m k_means \u001b[39m=\u001b[39m KMeans(n_clusters\u001b[39m=\u001b[39mn, init\u001b[39m=\u001b[39m\u001b[39m'\u001b[39m\u001b[39mk-means++\u001b[39m\u001b[39m'\u001b[39m)\n\u001b[1;32m----> <a href='vscode-notebook-cell:/c%3A/Users/jltag/Mi%20unidad/2%20-%20IT/0%20-%20Python%20Dev/Scientific%20Computing%20with%20Python%20Projects/7%20-%20K-means/client_zoning.ipynb#X31sZmlsZQ%3D%3D?line=2'>3</a>\u001b[0m k_means\u001b[39m.\u001b[39;49mfit(X[:,\u001b[39m1\u001b[39;49m],X[:,\u001b[39m2\u001b[39;49m])\n",
      "File \u001b[1;32m~\\AppData\\Roaming\\Python\\Python310\\site-packages\\sklearn\\cluster\\_kmeans.py:1367\u001b[0m, in \u001b[0;36mKMeans.fit\u001b[1;34m(self, X, y, sample_weight)\u001b[0m\n\u001b[0;32m   1341\u001b[0m \u001b[39mdef\u001b[39;00m \u001b[39mfit\u001b[39m(\u001b[39mself\u001b[39m, X, y\u001b[39m=\u001b[39m\u001b[39mNone\u001b[39;00m, sample_weight\u001b[39m=\u001b[39m\u001b[39mNone\u001b[39;00m):\n\u001b[0;32m   1342\u001b[0m     \u001b[39m\"\"\"Compute k-means clustering.\u001b[39;00m\n\u001b[0;32m   1343\u001b[0m \n\u001b[0;32m   1344\u001b[0m \u001b[39m    Parameters\u001b[39;00m\n\u001b[1;32m   (...)\u001b[0m\n\u001b[0;32m   1365\u001b[0m \u001b[39m        Fitted estimator.\u001b[39;00m\n\u001b[0;32m   1366\u001b[0m \u001b[39m    \"\"\"\u001b[39;00m\n\u001b[1;32m-> 1367\u001b[0m     X \u001b[39m=\u001b[39m \u001b[39mself\u001b[39;49m\u001b[39m.\u001b[39;49m_validate_data(\n\u001b[0;32m   1368\u001b[0m         X,\n\u001b[0;32m   1369\u001b[0m         accept_sparse\u001b[39m=\u001b[39;49m\u001b[39m\"\u001b[39;49m\u001b[39mcsr\u001b[39;49m\u001b[39m\"\u001b[39;49m,\n\u001b[0;32m   1370\u001b[0m         dtype\u001b[39m=\u001b[39;49m[np\u001b[39m.\u001b[39;49mfloat64, np\u001b[39m.\u001b[39;49mfloat32],\n\u001b[0;32m   1371\u001b[0m         order\u001b[39m=\u001b[39;49m\u001b[39m\"\u001b[39;49m\u001b[39mC\u001b[39;49m\u001b[39m\"\u001b[39;49m,\n\u001b[0;32m   1372\u001b[0m         copy\u001b[39m=\u001b[39;49m\u001b[39mself\u001b[39;49m\u001b[39m.\u001b[39;49mcopy_x,\n\u001b[0;32m   1373\u001b[0m         accept_large_sparse\u001b[39m=\u001b[39;49m\u001b[39mFalse\u001b[39;49;00m,\n\u001b[0;32m   1374\u001b[0m     )\n\u001b[0;32m   1376\u001b[0m     \u001b[39mself\u001b[39m\u001b[39m.\u001b[39m_check_params(X)\n\u001b[0;32m   1377\u001b[0m     random_state \u001b[39m=\u001b[39m check_random_state(\u001b[39mself\u001b[39m\u001b[39m.\u001b[39mrandom_state)\n",
      "File \u001b[1;32m~\\AppData\\Roaming\\Python\\Python310\\site-packages\\sklearn\\base.py:577\u001b[0m, in \u001b[0;36mBaseEstimator._validate_data\u001b[1;34m(self, X, y, reset, validate_separately, **check_params)\u001b[0m\n\u001b[0;32m    575\u001b[0m     \u001b[39mraise\u001b[39;00m \u001b[39mValueError\u001b[39;00m(\u001b[39m\"\u001b[39m\u001b[39mValidation should be done on X, y or both.\u001b[39m\u001b[39m\"\u001b[39m)\n\u001b[0;32m    576\u001b[0m \u001b[39melif\u001b[39;00m \u001b[39mnot\u001b[39;00m no_val_X \u001b[39mand\u001b[39;00m no_val_y:\n\u001b[1;32m--> 577\u001b[0m     X \u001b[39m=\u001b[39m check_array(X, input_name\u001b[39m=\u001b[39m\u001b[39m\"\u001b[39m\u001b[39mX\u001b[39m\u001b[39m\"\u001b[39m, \u001b[39m*\u001b[39m\u001b[39m*\u001b[39mcheck_params)\n\u001b[0;32m    578\u001b[0m     out \u001b[39m=\u001b[39m X\n\u001b[0;32m    579\u001b[0m \u001b[39melif\u001b[39;00m no_val_X \u001b[39mand\u001b[39;00m \u001b[39mnot\u001b[39;00m no_val_y:\n",
      "File \u001b[1;32m~\\AppData\\Roaming\\Python\\Python310\\site-packages\\sklearn\\utils\\validation.py:879\u001b[0m, in \u001b[0;36mcheck_array\u001b[1;34m(array, accept_sparse, accept_large_sparse, dtype, order, copy, force_all_finite, ensure_2d, allow_nd, ensure_min_samples, ensure_min_features, estimator, input_name)\u001b[0m\n\u001b[0;32m    877\u001b[0m     \u001b[39m# If input is 1D raise error\u001b[39;00m\n\u001b[0;32m    878\u001b[0m     \u001b[39mif\u001b[39;00m array\u001b[39m.\u001b[39mndim \u001b[39m==\u001b[39m \u001b[39m1\u001b[39m:\n\u001b[1;32m--> 879\u001b[0m         \u001b[39mraise\u001b[39;00m \u001b[39mValueError\u001b[39;00m(\n\u001b[0;32m    880\u001b[0m             \u001b[39m\"\u001b[39m\u001b[39mExpected 2D array, got 1D array instead:\u001b[39m\u001b[39m\\n\u001b[39;00m\u001b[39marray=\u001b[39m\u001b[39m{}\u001b[39;00m\u001b[39m.\u001b[39m\u001b[39m\\n\u001b[39;00m\u001b[39m\"\u001b[39m\n\u001b[0;32m    881\u001b[0m             \u001b[39m\"\u001b[39m\u001b[39mReshape your data either using array.reshape(-1, 1) if \u001b[39m\u001b[39m\"\u001b[39m\n\u001b[0;32m    882\u001b[0m             \u001b[39m\"\u001b[39m\u001b[39myour data has a single feature or array.reshape(1, -1) \u001b[39m\u001b[39m\"\u001b[39m\n\u001b[0;32m    883\u001b[0m             \u001b[39m\"\u001b[39m\u001b[39mif it contains a single sample.\u001b[39m\u001b[39m\"\u001b[39m\u001b[39m.\u001b[39mformat(array)\n\u001b[0;32m    884\u001b[0m         )\n\u001b[0;32m    886\u001b[0m \u001b[39mif\u001b[39;00m dtype_numeric \u001b[39mand\u001b[39;00m array\u001b[39m.\u001b[39mdtype\u001b[39m.\u001b[39mkind \u001b[39min\u001b[39;00m \u001b[39m\"\u001b[39m\u001b[39mUSV\u001b[39m\u001b[39m\"\u001b[39m:\n\u001b[0;32m    887\u001b[0m     \u001b[39mraise\u001b[39;00m \u001b[39mValueError\u001b[39;00m(\n\u001b[0;32m    888\u001b[0m         \u001b[39m\"\u001b[39m\u001b[39mdtype=\u001b[39m\u001b[39m'\u001b[39m\u001b[39mnumeric\u001b[39m\u001b[39m'\u001b[39m\u001b[39m is not compatible with arrays of bytes/strings.\u001b[39m\u001b[39m\"\u001b[39m\n\u001b[0;32m    889\u001b[0m         \u001b[39m\"\u001b[39m\u001b[39mConvert your data to numeric values explicitly instead.\u001b[39m\u001b[39m\"\u001b[39m\n\u001b[0;32m    890\u001b[0m     )\n",
      "\u001b[1;31mValueError\u001b[0m: Expected 2D array, got 1D array instead:\narray=[-43.2578047 -43.2493016 -43.2520243 -43.2514981 -43.2485344 -43.2724624\n -43.2682272 -43.252071  -43.2554564 -43.2495601 -43.2697566 -43.2882513\n -43.2556675 -43.2409988 -43.2492231 -43.2385812 -43.2493016 -43.2514934\n -43.2493016 -43.2718371 -43.2626485 -43.2555997 -43.255266  -43.2654796\n -43.2382764 -43.2636274 -43.2576004 -43.2640989 -43.2456796 -43.2543148\n -43.2382764 -43.262783  -43.2575344 -43.2493441 -43.2693317 -43.2459716\n -43.2616731 -43.2641549 -43.2570584 -43.2692023 -43.251114  -43.2677704\n -43.2485757 -43.2594724 -43.2613781 -43.254202  -43.2543576 -43.2394819\n -43.2580047 -43.255577  -43.236849  -43.2591011 -43.254042  -43.2578704\n -43.2652181 -43.2518639 -43.2587821 -43.2466828 -43.2493016 -43.2533204\n -43.2552181 -43.2574342 -43.2499932 -43.2443904 -43.250552  -43.2509039\n -43.2557284 -43.2493016 -43.2510589 -43.2579798 -43.2654146 -43.2692569\n -43.2570402 -43.2560153 -43.2506999 -43.265375  -43.2484228 -43.2560552\n -43.2525881 -43.2528822 -43.2670324 -43.2629367 -43.2515036 -43.2563119\n -43.2510709 -43.2503734 -43.2680417 -43.2553208 -43.256403  -43.2716061\n -43.2413562 -43.2471721 -43.272349  -43.2597665 -43.2612935 -43.2556708\n -43.2579195 -43.258273  -43.2497673 -43.2460667 -43.2401921 -43.2585869\n -43.2608103 -43.2697687 -43.2532567 -43.2649951 -43.2523209 -43.258659\n -43.2544725 -43.2546846 -43.2652681 -43.2493016 -43.2654312 -43.2614109\n -43.2572491 -43.2492631 -43.2613897 -43.2572984 -43.265799  -43.2369948\n -43.24672   -43.248127  -43.2640985 -43.2618584 -43.2444085 -43.2697561\n -43.2610364 -43.2416482 -43.2540677 -43.2721016 -43.2678591 -43.2531039\n -43.266021  -43.2550549 -43.2550284 -43.2592085 -43.2481181 -43.26775\n -43.2640339 -43.2547475 -43.2743583 -43.2538466 -43.2483963 -43.2571074\n -43.2663212 -43.2601032 -43.2584645 -43.2350134 -43.2555715 -43.2728581\n -43.254533  -43.2525523 -43.2661289 -43.2567592 -43.265093  -43.2616016\n -43.2468089 -43.2416482 -43.2529538 -43.2532014 -43.2680983 -43.2677301\n -43.2530956 -43.2629799 -43.2649711 -43.2427867 -43.2781818 -43.2617642\n -43.3014766 -43.2678512 -43.2493016 -43.2691362 -43.2441673 -43.2662305\n -43.2600922 -43.2457583 -43.2638009 -43.2707923 -43.2366648 -43.2556014\n -43.2520168 -43.2410558 -43.2668814 -43.2609342 -43.2572845 -43.2581912\n -43.2781818 -43.2455498 -43.258396  -43.2571074 -43.2572489 -43.2596316\n -43.2583552 -43.2614977 -43.2517859 -43.258376  -43.2522481 -43.2579353].\nReshape your data either using array.reshape(-1, 1) if your data has a single feature or array.reshape(1, -1) if it contains a single sample."
     ]
    }
   ],
   "source": [
    "n = 4\n",
    "k_means = KMeans(n_clusters=n)\n",
    "k_means.fit(X[:,1],X[:,2])"
   ]
  },
  {
   "cell_type": "code",
   "execution_count": 241,
   "metadata": {},
   "outputs": [],
   "source": [
    "centroides = k_means.cluster_centers_\n",
    "etiquetas = k_means.labels_"
   ]
  },
  {
   "cell_type": "code",
   "execution_count": 243,
   "metadata": {},
   "outputs": [
    {
     "data": {
      "image/png": "[encoded data removed]",
      "text/plain": [
       "<Figure size 432x288 with 1 Axes>"
      ]
     },
     "metadata": {
      "needs_background": "light"
     },
     "output_type": "display_data"
    }
   ],
   "source": [
    "plt.plot(X[etiquetas==0,1],X[etiquetas==0,2],'r.', label='grupo 1')\n",
    "plt.plot(X[etiquetas==1,1],X[etiquetas==1,2],'b.', label='grupo 2')\n",
    "plt.plot(X[etiquetas==2,1],X[etiquetas==2,2],'g.', label='grupo 3')\n",
    "plt.plot(X[etiquetas==3,1],X[etiquetas==3,2],'y.', label='grupo 4')\n",
    "\n",
    "\n",
    "plt.plot(centroides[:,1],centroides[:,2],'mo',markersize=6, label='centroides')\n",
    "\n",
    "plt.legend(loc='best')\n",
    "plt.show()"
   ]
  },
  {
   "cell_type": "code",
   "execution_count": 212,
   "metadata": {},
   "outputs": [
    {
     "data": {
      "text/plain": [
       "(array([-43.2578047, -43.2493016, -43.2520243, -43.2514981, -43.2485344,\n",
       "        -43.2724624, -43.2682272, -43.252071 , -43.2554564, -43.2495601,\n",
       "        -43.2697566, -43.2882513, -43.2556675, -43.2409988, -43.2492231,\n",
       "        -43.2385812, -43.2493016, -43.2514934, -43.2493016, -43.2718371,\n",
       "        -43.2626485, -43.2555997]),\n",
       " array([-65.2911966, -65.3076351, -65.3027024, -65.3078508, -65.3400394,\n",
       "        -65.2856333, -65.2910388, -65.3094011, -65.2868373, -65.312594 ,\n",
       "        -65.2944534, -65.3077672, -65.3134008, -65.3113787, -65.2906758,\n",
       "        -65.2924477, -65.3076351, -65.2906001, -65.3076351, -65.308794 ,\n",
       "        -65.318072 , -65.3152142]))"
      ]
     },
     "execution_count": 212,
     "metadata": {},
     "output_type": "execute_result"
    }
   ],
   "source": [
    "cl1 = X[etiquetas==0,0],X[etiquetas==0,1]\n",
    "cant_cl1 = len(X[etiquetas==0,0])\n",
    "cant_cl2 = len(X[etiquetas==1,0])\n",
    "cant_cl3 = len(X[etiquetas==2,0])\n",
    "cant_cl4 = len(X[etiquetas==3,0])\n",
    "\n",
    "X[0:22,0],X[0:22,1]"
   ]
  },
  {
   "cell_type": "code",
   "execution_count": 203,
   "metadata": {},
   "outputs": [
    {
     "name": "stdout",
     "output_type": "stream",
     "text": [
      "21\n",
      "58\n",
      "55\n",
      "64\n"
     ]
    }
   ],
   "source": [
    "print(cant_cl1)\n",
    "print(cant_cl2)\n",
    "print(cant_cl3)\n",
    "print(cant_cl4)"
   ]
  },
  {
   "cell_type": "code",
   "execution_count": 208,
   "metadata": {},
   "outputs": [
    {
     "data": {
      "text/plain": [
       "(-43.2555997, -65.3152142)"
      ]
     },
     "execution_count": 208,
     "metadata": {},
     "output_type": "execute_result"
    }
   ],
   "source": [
    "clientes['coord'][21]"
   ]
  },
  {
   "cell_type": "code",
   "execution_count": 222,
   "metadata": {},
   "outputs": [
    {
     "data": {
      "text/plain": [
       "'050004'"
      ]
     },
     "execution_count": 222,
     "metadata": {},
     "output_type": "execute_result"
    }
   ],
   "source": [
    "clientes.index[21]"
   ]
  },
  {
   "cell_type": "code",
   "execution_count": null,
   "metadata": {},
   "outputs": [],
   "source": [
    "wcss = [] \n",
    "for number_of_clusters in range(1, 11): \n",
    "    kmeans = KMeans(n_clusters = number_of_clusters)\n",
    "    kmeans.fit(X) \n",
    "    wcss.append(kmeans.inertia_)\n",
    "wcss"
   ]
  },
  {
   "cell_type": "code",
   "execution_count": null,
   "metadata": {},
   "outputs": [],
   "source": [
    "ks = [1, 2, 3, 4, 5 , 6 , 7 , 8, 9, 10]\n",
    "plt.plot(ks, wcss)\n",
    "plt.axvline(3, linestyle='--', color='r')"
   ]
  }
 ],
 "metadata": {
  "kernelspec": {
   "display_name": "Python 3.10.5 64-bit",
   "language": "python",
   "name": "python3"
  },
  "language_info": {
   "codemirror_mode": {
    "name": "ipython",
    "version": 3
   },
   "file_extension": ".py",
   "mimetype": "text/x-python",
   "name": "python",
   "nbconvert_exporter": "python",
   "pygments_lexer": "ipython3",
   "version": "3.10.5"
  },
  "orig_nbformat": 4,
  "vscode": {
   "interpreter": {
    "hash": "26de051ba29f2982a8de78e945f0abaf191376122a1563185a90213a26c5da77"
   }
  }
 },
 "nbformat": 4,
 "nbformat_minor": 2
}
